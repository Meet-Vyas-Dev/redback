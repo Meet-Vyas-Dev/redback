{
 "cells": [
  {
   "cell_type": "markdown",
   "id": "ca02b38c",
   "metadata": {},
   "source": [
    "## Notebook to show how to use redback to generate toO style observations for any model. \n",
    "\n",
    "You will need to install Redback. Instructions available at https://redback.readthedocs.io/en/latest/. I suggest installing from source via GitHub."
   ]
  },
  {
   "cell_type": "code",
   "execution_count": 1,
   "id": "ba8c5fc6",
   "metadata": {},
   "outputs": [
    {
     "name": "stderr",
     "output_type": "stream",
     "text": [
      "c:\\Users\\Meet\\OneDrive\\Desktop\\Mechanical Semester-8\\Redback Rubin ToO\\redback\\redback\\transient_models\\afterglow_models.py:837: SyntaxWarning: invalid escape sequence '\\l'\n",
      "  \"\"\"\n",
      "c:\\Users\\Meet\\OneDrive\\Desktop\\Mechanical Semester-8\\Redback Rubin ToO\\redback\\redback\\transient_models\\afterglow_models.py:899: SyntaxWarning: invalid escape sequence '\\l'\n",
      "  \"\"\"\n",
      "c:\\Users\\Meet\\OneDrive\\Desktop\\Mechanical Semester-8\\Redback Rubin ToO\\redback\\redback\\transient_models\\afterglow_models.py:962: SyntaxWarning: invalid escape sequence '\\l'\n",
      "  \"\"\"\n",
      "c:\\Users\\Meet\\OneDrive\\Desktop\\Mechanical Semester-8\\Redback Rubin ToO\\redback\\redback\\transient_models\\afterglow_models.py:1029: SyntaxWarning: invalid escape sequence '\\l'\n",
      "  \"\"\"\n",
      "c:\\Users\\Meet\\OneDrive\\Desktop\\Mechanical Semester-8\\Redback Rubin ToO\\redback\\redback\\transient_models\\afterglow_models.py:1097: SyntaxWarning: invalid escape sequence '\\l'\n",
      "  \"\"\"\n",
      "c:\\Users\\Meet\\OneDrive\\Desktop\\Mechanical Semester-8\\Redback Rubin ToO\\redback\\redback\\transient_models\\afterglow_models.py:1164: SyntaxWarning: invalid escape sequence '\\l'\n",
      "  \"\"\"\n",
      "c:\\Users\\Meet\\OneDrive\\Desktop\\Mechanical Semester-8\\Redback Rubin ToO\\redback\\redback\\transient_models\\afterglow_models.py:1232: SyntaxWarning: invalid escape sequence '\\l'\n",
      "  \"\"\"\n",
      "c:\\Users\\Meet\\OneDrive\\Desktop\\Mechanical Semester-8\\Redback Rubin ToO\\redback\\redback\\transient_models\\afterglow_models.py:1300: SyntaxWarning: invalid escape sequence '\\l'\n",
      "  \"\"\"\n",
      "c:\\Users\\Meet\\OneDrive\\Desktop\\Mechanical Semester-8\\Redback Rubin ToO\\redback\\redback\\transient_models\\afterglow_models.py:1369: SyntaxWarning: invalid escape sequence '\\l'\n",
      "  \"\"\"\n",
      "c:\\Users\\Meet\\OneDrive\\Desktop\\Mechanical Semester-8\\Redback Rubin ToO\\redback\\redback\\transient_models\\afterglow_models.py:1441: SyntaxWarning: invalid escape sequence '\\l'\n",
      "  \"\"\"\n",
      "c:\\Users\\Meet\\OneDrive\\Desktop\\Mechanical Semester-8\\Redback Rubin ToO\\redback\\redback\\transient_models\\afterglow_models.py:1515: SyntaxWarning: invalid escape sequence '\\l'\n",
      "  \"\"\"\n",
      "c:\\Users\\Meet\\OneDrive\\Desktop\\Mechanical Semester-8\\Redback Rubin ToO\\redback\\redback\\transient_models\\afterglow_models.py:1588: SyntaxWarning: invalid escape sequence '\\l'\n",
      "  \"\"\"\n",
      "No module named 'lalsimulation'\n",
      "lalsimulation is not installed. Some EOS based models will not work. Please use bilby eos or pass your own EOS generation class to the model\n",
      "c:\\Users\\Meet\\OneDrive\\Desktop\\Mechanical Semester-8\\Redback Rubin ToO\\redback\\redback\\transient\\afterglow.py:315: SyntaxWarning: invalid escape sequence '\\d'\n",
      "  new_float = float(re.findall(\"\\d+\\.\\d+\", string)[0])\n",
      "02:45 bilby INFO    : Running bilby version: 2.2.3\n",
      "02:45 redback INFO    : Running redback version: 1.0.2\n"
     ]
    }
   ],
   "source": [
    "import redback\n",
    "import pandas as pd\n",
    "from redback.simulate_transients import SimulateOpticalTransient\n",
    "import matplotlib.pyplot as plt\n",
    "import numpy as np"
   ]
  },
  {
   "cell_type": "markdown",
   "id": "f675ed98",
   "metadata": {},
   "source": [
    "We first design a strategy. This takes the form of a dataframe which specifies sky pointings, time, limiting mags, and the bands"
   ]
  },
  {
   "cell_type": "code",
   "execution_count": 1,
   "id": "6bcc6760",
   "metadata": {},
   "outputs": [
    {
     "ename": "NameError",
     "evalue": "name 'redback' is not defined",
     "output_type": "error",
     "traceback": [
      "\u001b[1;31m---------------------------------------------------------------------------\u001b[0m",
      "\u001b[1;31mNameError\u001b[0m                                 Traceback (most recent call last)",
      "Cell \u001b[1;32mIn[1], line 21\u001b[0m\n\u001b[0;32m     19\u001b[0m \u001b[38;5;66;03m# We also set the start time of the observation/survey strategy \u001b[39;00m\n\u001b[0;32m     20\u001b[0m initMJD \u001b[38;5;241m=\u001b[39m \u001b[38;5;241m59581.0\u001b[39m\n\u001b[1;32m---> 21\u001b[0m pointings \u001b[38;5;241m=\u001b[39m \u001b[43mredback\u001b[49m\u001b[38;5;241m.\u001b[39msimulate_transients\u001b[38;5;241m.\u001b[39mmake_pointing_table_from_average_cadence(\n\u001b[0;32m     22\u001b[0m     ra\u001b[38;5;241m=\u001b[39mra, dec\u001b[38;5;241m=\u001b[39mdec, num_obs\u001b[38;5;241m=\u001b[39mnum_obs, average_cadence\u001b[38;5;241m=\u001b[39maverage_cadence,\n\u001b[0;32m     23\u001b[0m     cadence_scatter\u001b[38;5;241m=\u001b[39mcadence_scatter, limiting_magnitudes\u001b[38;5;241m=\u001b[39mlimiting_magnitudes, \n\u001b[0;32m     24\u001b[0m     initMJD\u001b[38;5;241m=\u001b[39m\u001b[38;5;241m59581.0\u001b[39m)\n\u001b[0;32m     25\u001b[0m \u001b[38;5;28mprint\u001b[39m(pointings)\n",
      "\u001b[1;31mNameError\u001b[0m: name 'redback' is not defined"
     ]
    }
   ],
   "source": [
    "# specify the number of pointings per band \n",
    "num_obs = {'lsstg': 10, 'lsstr':10, 'lssti':10, 'lsstz':10, 'lsstu':10}\n",
    "\n",
    "# specify the cadence in days for each band\n",
    "average_cadence = {'lsstg': 1.5, 'lsstr': 5.0, 'lssti': 2.5, 'lsstz':1, 'lsstu':1}\n",
    "\n",
    "# specify any scatter on the cadence, the time of the observation will be \n",
    "# taken from a Gaussian with the scatter as sigma\n",
    "cadence_scatter = {'lsstg': 0.5, 'lsstr':0.5, 'lssti':0.5, 'lsstz':1, 'lsstu':1}\n",
    "\n",
    "# Specify limiting 5 sigma depth magnitude\n",
    "limiting_magnitudes = {'lsstg': 25.0, 'lsstr': 24.5, 'lssti': 23.0, 'lsstu':25, 'lsstz':23}\n",
    "\n",
    "# We now use redback to make a pointings table from the above information\n",
    "# We set RA and DEC to always be at the location of the transient \n",
    "# but we can change this to incorporate the fov/full survey\n",
    "ra = 1.0 \n",
    "dec = 1.5\n",
    "# We also set the start time of the observation/survey strategy \n",
    "initMJD = 59581.0\n",
    "pointings = redback.simulate_transients.make_pointing_table_from_average_cadence(\n",
    "    ra=ra, dec=dec, num_obs=num_obs, average_cadence=average_cadence,\n",
    "    cadence_scatter=cadence_scatter, limiting_magnitudes=limiting_magnitudes, \n",
    "    initMJD=59581.0)\n",
    "print(pointings)"
   ]
  },
  {
   "cell_type": "markdown",
   "id": "058eb929",
   "metadata": {},
   "source": [
    "The pointings are just a dataframe with the specific columns shown above. You could just as easily make your own up or read a table from somewhere else. The above is just meant to be a helpful function to make these pointings"
   ]
  },
  {
   "cell_type": "markdown",
   "id": "e200dfbe",
   "metadata": {},
   "source": [
    "We now specify a redback model (or a user implemented model) and the parameters we want to simulate given the above cadences. "
   ]
  },
  {
   "cell_type": "code",
   "execution_count": 2,
   "id": "9bee8aac",
   "metadata": {},
   "outputs": [
    {
     "ename": "NameError",
     "evalue": "name 'redback' is not defined",
     "output_type": "error",
     "traceback": [
      "\u001b[1;31m---------------------------------------------------------------------------\u001b[0m",
      "\u001b[1;31mNameError\u001b[0m                                 Traceback (most recent call last)",
      "Cell \u001b[1;32mIn[2], line 9\u001b[0m\n\u001b[0;32m      6\u001b[0m model \u001b[38;5;241m=\u001b[39m \u001b[38;5;124m'\u001b[39m\u001b[38;5;124mone_component_kilonova\u001b[39m\u001b[38;5;124m'\u001b[39m\n\u001b[0;32m      7\u001b[0m \u001b[38;5;66;03m# Load the default prior for this model in redback and sample from it to get 1 set of parameters. \u001b[39;00m\n\u001b[0;32m      8\u001b[0m \u001b[38;5;66;03m# We can sample from the default prior for this model for a random kilonova. \u001b[39;00m\n\u001b[1;32m----> 9\u001b[0m parameters \u001b[38;5;241m=\u001b[39m \u001b[43mredback\u001b[49m\u001b[38;5;241m.\u001b[39mpriors\u001b[38;5;241m.\u001b[39mget_priors(model\u001b[38;5;241m=\u001b[39mmodel)\u001b[38;5;241m.\u001b[39msample()\n\u001b[0;32m     11\u001b[0m \u001b[38;5;66;03m# We fix a few parameters here to create a nice looking kilonova. \u001b[39;00m\n\u001b[0;32m     12\u001b[0m \u001b[38;5;66;03m# You can change any of the parameters here or add additional keyword arguments \u001b[39;00m\n\u001b[0;32m     13\u001b[0m \u001b[38;5;66;03m# to change some physical assumptions. Please refer to the documentation for this and units etc\u001b[39;00m\n\u001b[0;32m     14\u001b[0m parameters[\u001b[38;5;124m'\u001b[39m\u001b[38;5;124mmej\u001b[39m\u001b[38;5;124m'\u001b[39m] \u001b[38;5;241m=\u001b[39m \u001b[38;5;241m0.05\u001b[39m\n",
      "\u001b[1;31mNameError\u001b[0m: name 'redback' is not defined"
     ]
    }
   ],
   "source": [
    "model_kwargs = {}\n",
    "# Any redback model can be referred to as a string. \n",
    "# If the user has their own model, they can pass a function here instead. \n",
    "# There are over a 100 models implemented in redback, lots of models for kilonovae, GRB afterglows, \n",
    "# supernovae, TDEs and other things\n",
    "model = 'one_component_kilonova'\n",
    "# Load the default prior for this model in redback and sample from it to get 1 set of parameters. \n",
    "# We can sample from the default prior for this model for a random kilonova. \n",
    "parameters = redback.priors.get_priors(model=model).sample()\n",
    "\n",
    "# We fix a few parameters here to create a nice looking kilonova. \n",
    "# You can change any of the parameters here or add additional keyword arguments \n",
    "# to change some physical assumptions. Please refer to the documentation for this and units etc\n",
    "parameters['mej'] = 0.05\n",
    "parameters['t0_mjd_transient'] = 59582.0\n",
    "parameters['redshift'] = 0.075\n",
    "parameters['t0'] = parameters['t0_mjd_transient']\n",
    "parameters['temperature_floor'] = 3000\n",
    "parameters['kappa'] = 1\n",
    "parameters['vej'] = 0.2\n",
    "parameters['ra'] = 1.0\n",
    "parameters['dec'] = 1.5\n",
    "print(parameters)"
   ]
  },
  {
   "cell_type": "markdown",
   "id": "3ca22933",
   "metadata": {},
   "source": [
    "We now simulate a kilonova with the above parameters and the strategy designed above."
   ]
  },
  {
   "cell_type": "code",
   "execution_count": null,
   "id": "d955414c",
   "metadata": {},
   "outputs": [],
   "source": [
    "# Specify some additional settings. \n",
    "# A threshold for data points to consider detections based on a SNR. \n",
    "snr_threshold = 5.0\n",
    "\n",
    "# A maximum time to evaluate the transient, \n",
    "# this is useful if you do not trust the model past a certain time or do not want to generate detections past this time. \n",
    "end_transient_time = 20\n",
    "\n",
    "# Simulate by passing in the parameters of the model, the model string (or a python function), \n",
    "# and the pointings generated above.\n",
    "kn_sim = SimulateOpticalTransient.simulate_transient(model='one_component_kilonova_model',\n",
    "                                       parameters=parameters, pointings_database=pointings,\n",
    "                                       survey=None, model_kwargs=model_kwargs,\n",
    "                                        end_transient_time=20., snr_threshold=5.0)"
   ]
  },
  {
   "cell_type": "code",
   "execution_count": null,
   "id": "1b3eae74",
   "metadata": {},
   "outputs": [],
   "source": [
    "# We can print the observations that were simulated to see what the data looks like. \n",
    "# This will include extra stuff like non-detections etc\n",
    "print(kn_sim.observations)"
   ]
  },
  {
   "cell_type": "code",
   "execution_count": null,
   "id": "7c535c0e",
   "metadata": {},
   "outputs": [],
   "source": [
    "# We can also save the observations to a file using the save_transient method.\n",
    "# This will save the observations to a csv file in a 'simulated' directory alongside the csv file\n",
    "# specifying the injection parameters.\n",
    "kn_sim.save_transient(name='my_kilonova')"
   ]
  },
  {
   "cell_type": "code",
   "execution_count": 2,
   "id": "90532c0b",
   "metadata": {},
   "outputs": [
    {
     "ename": "NameError",
     "evalue": "name 'redback' is not defined",
     "output_type": "error",
     "traceback": [
      "\u001b[1;31m---------------------------------------------------------------------------\u001b[0m",
      "\u001b[1;31mNameError\u001b[0m                                 Traceback (most recent call last)",
      "Cell \u001b[1;32mIn[2], line 1\u001b[0m\n\u001b[1;32m----> 1\u001b[0m kn_object \u001b[38;5;241m=\u001b[39m \u001b[43mredback\u001b[49m\u001b[38;5;241m.\u001b[39mtransient\u001b[38;5;241m.\u001b[39mKilonova\u001b[38;5;241m.\u001b[39mfrom_simulated_optical_data(name\u001b[38;5;241m=\u001b[39m\u001b[38;5;124m'\u001b[39m\u001b[38;5;124mmy_kilonova\u001b[39m\u001b[38;5;124m'\u001b[39m, data_mode\u001b[38;5;241m=\u001b[39m\u001b[38;5;124m'\u001b[39m\u001b[38;5;124mmagnitude\u001b[39m\u001b[38;5;124m'\u001b[39m)\n\u001b[0;32m      3\u001b[0m \u001b[38;5;66;03m# Make a dictionary for colors on the plot\u001b[39;00m\n\u001b[0;32m      4\u001b[0m band_colors \u001b[38;5;241m=\u001b[39m {\u001b[38;5;124m'\u001b[39m\u001b[38;5;124mlsstg\u001b[39m\u001b[38;5;124m'\u001b[39m:\u001b[38;5;124m'\u001b[39m\u001b[38;5;124m#4daf4a\u001b[39m\u001b[38;5;124m'\u001b[39m, \u001b[38;5;124m'\u001b[39m\u001b[38;5;124mlsstu\u001b[39m\u001b[38;5;124m'\u001b[39m:\u001b[38;5;124m'\u001b[39m\u001b[38;5;124m#377eb8\u001b[39m\u001b[38;5;124m'\u001b[39m, \u001b[38;5;124m'\u001b[39m\u001b[38;5;124mlsstr\u001b[39m\u001b[38;5;124m'\u001b[39m:\u001b[38;5;124m'\u001b[39m\u001b[38;5;124m#e41a1c\u001b[39m\u001b[38;5;124m'\u001b[39m, \n\u001b[0;32m      5\u001b[0m                \u001b[38;5;124m'\u001b[39m\u001b[38;5;124mlsstz\u001b[39m\u001b[38;5;124m'\u001b[39m:\u001b[38;5;124m'\u001b[39m\u001b[38;5;124m#a65628\u001b[39m\u001b[38;5;124m'\u001b[39m, \u001b[38;5;124m'\u001b[39m\u001b[38;5;124mlssti\u001b[39m\u001b[38;5;124m'\u001b[39m:\u001b[38;5;124m'\u001b[39m\u001b[38;5;124m#ff7f00\u001b[39m\u001b[38;5;124m'\u001b[39m}\n",
      "\u001b[1;31mNameError\u001b[0m: name 'redback' is not defined"
     ]
    }
   ],
   "source": [
    "kn_object = redback.transient.Kilonova.from_simulated_optical_data(name='my_kilonova', data_mode='magnitude')\n",
    "\n",
    "# Make a dictionary for colors on the plot\n",
    "band_colors = {'lsstg':'#4daf4a', 'lsstu':'#377eb8', 'lsstr':'#e41a1c', \n",
    "               'lsstz':'#a65628', 'lssti':'#ff7f00'}\n",
    "ax = kn_object.plot_data(show=False, band_colors=band_colors)\n",
    "# ax.set_ylim(22, 19)"
   ]
  },
  {
   "cell_type": "markdown",
   "id": "821caf8f",
   "metadata": {},
   "source": [
    "The above plot only shows the detection and not the input lightcurve or non-detections. Let's add those in. As the axes is returned with can use the attributes stored in the kn_sim object directly."
   ]
  },
  {
   "cell_type": "code",
   "execution_count": null,
   "id": "77448ec0",
   "metadata": {},
   "outputs": [],
   "source": [
    "# Make a dictionary for colors on the plot\n",
    "band_colors = {'lsstg':'#4daf4a', 'lsstu':'#377eb8', 'lsstr':'#e41a1c', \n",
    "               'lsstz':'#a65628', 'lssti':'#ff7f00'}\n",
    "ax = kn_object.plot_data(show=False, band_colors=band_colors)\n",
    "ax.set_ylim(28, 22)\n",
    "upper_limits = kn_sim.observations[kn_sim.observations['detected'] != 1.0]\n",
    "data = kn_sim.observations[kn_sim.observations['detected'] == 1.0]\n",
    "for band in band_colors.keys():\n",
    "    up = upper_limits[upper_limits['band'] == band]\n",
    "    dd = data[data['band'] == band]\n",
    "    plt.scatter(dd['time (days)'], dd['magnitude'], s=100, marker='.', color=band_colors[band])\n",
    "    plt.scatter(up['time (days)'], up['limiting_magnitude'], s=100, marker=r'$\\downarrow$', color=band_colors[band])\n",
    "\n",
    "    \n",
    "# We can also plot the true data \n",
    "tt = np.linspace(0.1, 20, 100)\n",
    "# specify output_format \n",
    "parameters['output_format'] = 'magnitude'\n",
    "for band in band_colors.keys():\n",
    "    parameters['bands'] = band\n",
    "    out = redback.transient_models.kilonova_models.one_component_kilonova_model(tt, **parameters)\n",
    "    plt.plot(tt, out, color=band_colors[band], alpha=0.3)\n",
    "\n",
    "plt.xlim(0.1, 10)\n",
    "\n"
   ]
  },
  {
   "cell_type": "code",
   "execution_count": 1,
   "id": "a7103a15",
   "metadata": {},
   "outputs": [
    {
     "ename": "NameError",
     "evalue": "name 'redback' is not defined",
     "output_type": "error",
     "traceback": [
      "\u001b[1;31m---------------------------------------------------------------------------\u001b[0m",
      "\u001b[1;31mNameError\u001b[0m                                 Traceback (most recent call last)",
      "Cell \u001b[1;32mIn[1], line 1\u001b[0m\n\u001b[1;32m----> 1\u001b[0m \u001b[38;5;28mprint\u001b[39m(\u001b[43mredback\u001b[49m\u001b[38;5;241m.\u001b[39mtransient_models)\n",
      "\u001b[1;31mNameError\u001b[0m: name 'redback' is not defined"
     ]
    }
   ],
   "source": [
    "print(redback.transient_models)\n"
   ]
  },
  {
   "cell_type": "markdown",
   "id": "f2582882",
   "metadata": {},
   "source": [
    "You can now use the simulated object and do parameter estimation. There are multiple examples available at \n",
    "https://github.com/nikhil-sarin/redback/tree/master/examples. Alongside other examples to simulate full survey or single lightcurves for Rubin or ZTF \n",
    "https://github.com/nikhil-sarin/redback/blob/master/examples/simulate_survey.py\n",
    "https://github.com/nikhil-sarin/redback/blob/master/examples/simulate_single_transient_in_rubin.py\n"
   ]
  }
 ],
 "metadata": {
  "kernelspec": {
   "display_name": "Python 3 (ipykernel)",
   "language": "python",
   "name": "python3"
  },
  "language_info": {
   "codemirror_mode": {
    "name": "ipython",
    "version": 3
   },
   "file_extension": ".py",
   "mimetype": "text/x-python",
   "name": "python",
   "nbconvert_exporter": "python",
   "pygments_lexer": "ipython3",
   "version": "3.12.2"
  }
 },
 "nbformat": 4,
 "nbformat_minor": 5
}
